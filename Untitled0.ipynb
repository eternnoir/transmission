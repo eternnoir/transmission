{
 "metadata": {
  "name": ""
 },
 "nbformat": 3,
 "nbformat_minor": 0,
 "worksheets": [
  {
   "cells": [
    {
     "cell_type": "code",
     "collapsed": false,
     "input": [
      "from docker import Client\n",
      "c = Client(base_url='unix://var/run/docker.sock',\n",
      "                  version='1.12',\n",
      "                  timeout=10)\n",
      "c"
     ],
     "language": "python",
     "metadata": {},
     "outputs": [],
     "prompt_number": 6
    }
   ],
   "metadata": {}
  }
 ]
}